{
  "nbformat": 4,
  "nbformat_minor": 0,
  "metadata": {
    "colab": {
      "name": "3.ipynb",
      "provenance": [],
      "collapsed_sections": [],
      "authorship_tag": "ABX9TyOuqY1bl016UOUkhLYgrfq6",
      "include_colab_link": true
    },
    "kernelspec": {
      "name": "python3",
      "display_name": "Python 3"
    },
    "language_info": {
      "name": "python"
    }
  },
  "cells": [
    {
      "cell_type": "markdown",
      "metadata": {
        "id": "view-in-github",
        "colab_type": "text"
      },
      "source": [
        "<a href=\"https://colab.research.google.com/github/SovetovAleksey/Linear-algebra/blob/3_quest/3.ipynb\" target=\"_parent\"><img src=\"https://colab.research.google.com/assets/colab-badge.svg\" alt=\"Open In Colab\"/></a>"
      ]
    },
    {
      "cell_type": "markdown",
      "source": [
        "__1.__ Найти собственные векторы и собственные значения для линейного оператора, заданного матрицей\n",
        "\n",
        "$$A=\\begin{pmatrix}\n",
        "-1 & -6\\\\ \n",
        "2 & 6\n",
        "\\end{pmatrix}.$$"
      ],
      "metadata": {
        "id": "Wo0JpjbeODBm"
      }
    },
    {
      "cell_type": "markdown",
      "source": [
        "Обозначим через $u = \\begin{pmatrix}\n",
        "x\\\\ \n",
        "y\n",
        "\\end{pmatrix}$ неизвестный собственный вектор. Тогда матричное уравнение $A\\bar{u} = \\lambda\\bar{u}$ запишется следующим образом "
      ],
      "metadata": {
        "id": "Q4oITptAOMMR"
      }
    },
    {
      "cell_type": "markdown",
      "source": [
        "$$\\begin{pmatrix}\n",
        "-1 & -6\\\\ \n",
        "2 & 6\n",
        "\\end{pmatrix} \\cdot \n",
        "\\begin{pmatrix}\n",
        "x\\\\ \n",
        "y\n",
        "\\end{pmatrix} = \\lambda \\cdot \n",
        "\\begin{pmatrix}\n",
        "x\\\\ \n",
        "y\n",
        "\\end{pmatrix}$$"
      ],
      "metadata": {
        "id": "VqO4PCzoRGc_"
      }
    },
    {
      "cell_type": "markdown",
      "source": [
        "$$\\begin{pmatrix}\n",
        "-1x - 6y\\\\ \n",
        "2x + 6y\n",
        "\\end{pmatrix} = \\begin{pmatrix}\n",
        "\\lambda x\\\\ \n",
        "\\lambda y\n",
        "\\end{pmatrix}$$"
      ],
      "metadata": {
        "id": "pzvs76UuRhyJ"
      }
    },
    {
      "cell_type": "markdown",
      "source": [
        "$$\\begin{cases}\n",
        "-1x - 6y=\\lambda x \\\\\n",
        "2x + 6y=\\lambda y\n",
        "\\end{cases}$$"
      ],
      "metadata": {
        "id": "z1IouWg6Rs3_"
      }
    },
    {
      "cell_type": "markdown",
      "source": [
        "$$\\begin{cases}\n",
        "-1x - 6y - \\lambda x = 0\\\\\n",
        "2x + 6y - \\lambda y = 0\n",
        "\\end{cases}$$"
      ],
      "metadata": {
        "id": "q7QwcrrGSQV3"
      }
    },
    {
      "cell_type": "markdown",
      "source": [
        "$$\\begin{cases}\n",
        "(-1 - \\lambda) x - 6y = 0\\\\\n",
        "2x + (6 - \\lambda)y = 0\n",
        "\\end{cases}$$"
      ],
      "metadata": {
        "id": "l4fGv9NmTGzI"
      }
    },
    {
      "cell_type": "markdown",
      "source": [
        "Найдем определитель"
      ],
      "metadata": {
        "id": "GQn9ktOBTXJT"
      }
    },
    {
      "cell_type": "markdown",
      "source": [
        "$$\\begin{vmatrix}\n",
        "(-1 - \\lambda) & -6\\\\ \n",
        "2 & (6 - \\lambda)\n",
        "\\end{vmatrix}=0$$"
      ],
      "metadata": {
        "id": "SS7gkTHzTZvU"
      }
    },
    {
      "cell_type": "markdown",
      "source": [
        ""
      ],
      "metadata": {
        "id": "lWNX1f76TufC"
      }
    },
    {
      "cell_type": "markdown",
      "source": [
        "$$(-1 - \\lambda)(6 - \\lambda) - 2 \\cdot (-6) = 0$$"
      ],
      "metadata": {
        "id": "_ysP7ygpT8Ld"
      }
    },
    {
      "cell_type": "markdown",
      "source": [
        "$$\\lambda^2 - 5\\lambda + 6 = 0$$"
      ],
      "metadata": {
        "id": "uODMV2bUUT0c"
      }
    },
    {
      "cell_type": "markdown",
      "source": [
        "$$D = b^2 - 4ac = 25 - 24 = 1$$\n",
        "\n",
        "$$\\sqrt{D} = 1$$"
      ],
      "metadata": {
        "id": "aMQFqSTkUbV6"
      }
    },
    {
      "cell_type": "markdown",
      "source": [
        "$$\\lambda_1 = \\frac{5 - 1}{2} = 2$$\n",
        "\n",
        "$$\\lambda_2 = \\frac{5 + 1}{2} = 3$$"
      ],
      "metadata": {
        "id": "frJ6mWolUtd5"
      }
    },
    {
      "cell_type": "markdown",
      "source": [
        "Собственные значения $\\lambda_1 = 2$, $\\lambda_2 = 3$"
      ],
      "metadata": {
        "id": "cXJZu-moU67m"
      }
    },
    {
      "cell_type": "markdown",
      "source": [
        "Что бы найти первый собственный вектор, поставим $\\lambda_1$ в определитель и получим систему уравнений"
      ],
      "metadata": {
        "id": "bOTKhCf-VNgF"
      }
    },
    {
      "cell_type": "markdown",
      "source": [
        "$$\\begin{cases}\n",
        "-3x - 6y = 0 \\\\\n",
        "2x + 4y = 0\n",
        "\\end{cases}$$"
      ],
      "metadata": {
        "id": "vX0uaP3CVXMx"
      }
    },
    {
      "cell_type": "markdown",
      "source": [
        "$$x = -2y$$"
      ],
      "metadata": {
        "id": "QEAWbRUsWEZI"
      }
    },
    {
      "cell_type": "markdown",
      "source": [
        "Пусть $y = -1$, тогда $x = 2$. Получаем первый собственный вектор $\\bar{u_1} = \\begin{pmatrix}\n",
        "2\\\\ \n",
        "-1\n",
        "\\end{pmatrix}$"
      ],
      "metadata": {
        "id": "g7YHxls3WcXY"
      }
    },
    {
      "cell_type": "markdown",
      "source": [
        "Аналогично для $\\lambda_2$"
      ],
      "metadata": {
        "id": "ji0hiDqeW4kM"
      }
    },
    {
      "cell_type": "markdown",
      "source": [
        "$$\\begin{cases}\n",
        "-4x - 6y = 0 \\\\\n",
        "2x + 3y = 0\n",
        "\\end{cases}$$"
      ],
      "metadata": {
        "id": "jpOKnp4FW8YH"
      }
    },
    {
      "cell_type": "markdown",
      "source": [
        "$$x = -1.5y$$"
      ],
      "metadata": {
        "id": "qtlOfn03XEMr"
      }
    },
    {
      "cell_type": "markdown",
      "source": [
        "Пусть $y = -2$, тогда $x = 3$. Второй собственный вектор $\\bar{u_2} = \\begin{pmatrix}\n",
        "3\\\\ \n",
        "-2\n",
        "\\end{pmatrix}$"
      ],
      "metadata": {
        "id": "tz7WkUBRXUBG"
      }
    },
    {
      "cell_type": "markdown",
      "source": [
        "__2.__ Дан оператор поворота на 180 градусов, задаваемый матрицей \n",
        "\n",
        "$$A=\\begin{pmatrix}\n",
        "-1 & 0\\\\ \n",
        "0 & -1\n",
        "\\end{pmatrix}.$$\n",
        "\n",
        "Показать, что __любой__ вектор является для него собственным."
      ],
      "metadata": {
        "id": "fvSSXyTEXo0c"
      }
    },
    {
      "cell_type": "markdown",
      "source": [
        "$$\\begin{pmatrix}\n",
        "-1 & 0\\\\ \n",
        "0 & -1\n",
        "\\end{pmatrix}\\begin{pmatrix}\n",
        "x\\\\ \n",
        "y\n",
        "\\end{pmatrix} = \\lambda\\begin{pmatrix}\n",
        "x\\\\ \n",
        "y\n",
        "\\end{pmatrix}$$\n",
        "\n",
        "$$\\begin{pmatrix}\n",
        "-x\\\\ \n",
        "-y\n",
        "\\end{pmatrix} = \\begin{pmatrix}\n",
        "\\lambda x\\\\ \n",
        "\\lambda y\n",
        "\\end{pmatrix}$$\n",
        "\n",
        "$$\\lambda = -1$$"
      ],
      "metadata": {
        "id": "-__NPQr6Xt5E"
      }
    },
    {
      "cell_type": "markdown",
      "source": [
        "Ответ не зависит от $x$ и $y$, какие бы значения не подставить, ответ один"
      ],
      "metadata": {
        "id": "ImuzCRbdZTjN"
      }
    },
    {
      "cell_type": "markdown",
      "source": [
        "__3.__ Пусть линейный оператор задан матрицей\n",
        "\n",
        "$$A=\\begin{pmatrix}\n",
        "1 & 1\\\\ \n",
        "-1 & 3\n",
        "\\end{pmatrix}.$$\n",
        "\n",
        "Установить, является ли вектор $x=(1,1)$ собственным вектором этого линейного оператора."
      ],
      "metadata": {
        "id": "wEfk_TkzZcw5"
      }
    },
    {
      "cell_type": "markdown",
      "source": [
        "$$\\begin{pmatrix}\n",
        "1 & 1\\\\ \n",
        "-1 & 3\n",
        "\\end{pmatrix}\\begin{pmatrix}\n",
        "1\\\\ \n",
        "1\n",
        "\\end{pmatrix} = \\lambda\\begin{pmatrix}\n",
        "1\\\\ \n",
        "1\n",
        "\\end{pmatrix}$$\n",
        "\n",
        "$$\\begin{cases}\n",
        "1 + 1 = \\lambda \\cdot 1 \\\\\n",
        "-1 + 3  = \\lambda \\cdot 1\n",
        "\\end{cases} \\Rightarrow \\lambda = 2$$"
      ],
      "metadata": {
        "id": "rcxih2fJZjGF"
      }
    },
    {
      "cell_type": "markdown",
      "source": [
        "Таким образом, вектор $x=(1,1)$ является собственным вектором линейного оператора, заданного матрицей $A$, и его собственное значение составляет $\\lambda=2.$"
      ],
      "metadata": {
        "id": "IfgeW-neamTc"
      }
    },
    {
      "cell_type": "markdown",
      "source": [
        "__4.__ Пусть линейный оператор задан матрицей\n",
        "\n",
        "$$A=\\begin{pmatrix}\n",
        "0 & 3 & 0\\\\ \n",
        "3 & 0 & 0\\\\\n",
        "0 & 0 & 3\n",
        "\\end{pmatrix}.$$\n",
        "\n",
        "Установить, является ли вектор $x=(3, -3, -4)$ собственным вектором этого линейного оператора."
      ],
      "metadata": {
        "id": "yg5_KVGKap6q"
      }
    },
    {
      "cell_type": "markdown",
      "source": [
        "$$\\begin{pmatrix}\n",
        "0 & 3 & 0\\\\ \n",
        "3 & 0 & 0\\\\\n",
        "0 & 0 & 3\n",
        "\\end{pmatrix}\\begin{pmatrix}\n",
        "3\\\\ \n",
        "-3\\\\\n",
        "-4\n",
        "\\end{pmatrix} = \\lambda \\begin{pmatrix}\n",
        "3\\\\ \n",
        "-3\\\\\n",
        "-4\n",
        "\\end{pmatrix}$$"
      ],
      "metadata": {
        "id": "ajhArvnAauSj"
      }
    },
    {
      "cell_type": "markdown",
      "source": [
        "$$⇒\\begin{pmatrix}\n",
        "-9\\\\ \n",
        "9\\\\\n",
        "-12\n",
        "\\end{pmatrix} = \\lambda \\begin{pmatrix}\n",
        "3\\\\ \n",
        "-3\\\\\n",
        "-4\n",
        "\\end{pmatrix} ⇒ \\begin{cases}\n",
        "\\lambda_1 = -3 \\\\\n",
        "\\lambda_2  = -3 \\\\\n",
        "\\lambda_3 = 3\n",
        "\\end{cases}$$"
      ],
      "metadata": {
        "id": "4gMjFhuMbJzg"
      }
    },
    {
      "cell_type": "markdown",
      "source": [
        "Такая система не имеет смысла, следовательно, вектор $x=(3,-3, -4)$ не является собственным вектором линейного оператора, заданного матрицей $A$."
      ],
      "metadata": {
        "id": "TXDVCSUxcQys"
      }
    }
  ]
}