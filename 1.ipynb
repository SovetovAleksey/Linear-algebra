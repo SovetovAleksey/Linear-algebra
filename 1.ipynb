{
  "nbformat": 4,
  "nbformat_minor": 0,
  "metadata": {
    "colab": {
      "name": "1.ipynb",
      "provenance": [],
      "collapsed_sections": [],
      "authorship_tag": "ABX9TyNR8qOjffwr4GCT6oIy5OB2",
      "include_colab_link": true
    },
    "kernelspec": {
      "name": "python3",
      "display_name": "Python 3"
    },
    "language_info": {
      "name": "python"
    }
  },
  "cells": [
    {
      "cell_type": "markdown",
      "metadata": {
        "id": "view-in-github",
        "colab_type": "text"
      },
      "source": [
        "<a href=\"https://colab.research.google.com/github/SovetovAleksey/Linear-algebra/blob/1_quest/1.ipynb\" target=\"_parent\"><img src=\"https://colab.research.google.com/assets/colab-badge.svg\" alt=\"Open In Colab\"/></a>"
      ]
    },
    {
      "cell_type": "code",
      "source": [
        "import numpy as np"
      ],
      "metadata": {
        "id": "CKgurIUeUwJN"
      },
      "execution_count": 1,
      "outputs": []
    },
    {
      "cell_type": "markdown",
      "source": [
        "__1.__ Исследовать на линейную зависимость:\n",
        "### $$f_{1}(x)=e^{x}, f_{2}(x)=1, f_{3}(x)=x+1, f_{4}(x)=x-e^{x}.$$"
      ],
      "metadata": {
        "id": "9LQIs_KWxHo5"
      }
    },
    {
      "cell_type": "markdown",
      "source": [
        "Решение"
      ],
      "metadata": {
        "id": "kKE132c2xMqH"
      }
    },
    {
      "cell_type": "markdown",
      "source": [
        "Выразим $f_3(x)$ через $f_1(x)$, $f_2(x)$, $f_4(x)$:\n",
        "\n",
        "$$f_3(x) = f_1(x) + f_2(x) + f_4(x)$$\n",
        "\n",
        "$$f_3(x) = e^x + 1 + x - e^x$$\n",
        "\n",
        "$$f_3(x) = x + 1$$"
      ],
      "metadata": {
        "id": "sxmu9OWQx9lD"
      }
    },
    {
      "cell_type": "markdown",
      "source": [
        "То есть:\n",
        "$$f_1(x) + f_2(x) + f_4(x) - f_3(x) = 0$$"
      ],
      "metadata": {
        "id": "hcQda-JP5jrB"
      }
    },
    {
      "cell_type": "markdown",
      "source": [
        "Есть не тривиальное решение, коэффициенты $(1;1;1;-1)$"
      ],
      "metadata": {
        "id": "GYZxnpoo52kW"
      }
    },
    {
      "cell_type": "markdown",
      "source": [
        "__2.__ Исследовать на линейную зависимость:\n",
        "### $$f_{1}(x)=2, f_{2}(x)=x, f_{3}(x)=x^{2}, f_{4}(x)=(x+1)^{2}.$$"
      ],
      "metadata": {
        "id": "rHwYhT0y6jjA"
      }
    },
    {
      "cell_type": "markdown",
      "source": [
        "Решение\n",
        "$$\\lambda_1 \\cdot 2 + \\lambda_2 \\cdot x + \\lambda_3 \\cdot x^2 + \\lambda_4 \\cdot (x+1)^2 = 0$$"
      ],
      "metadata": {
        "id": "JnzK6xEd80Uy"
      }
    },
    {
      "cell_type": "markdown",
      "source": [
        "В левой стороне у нас многочлен 2 порядка, который обращается в 0 только при 2 (максимум) значениях $x$, а не при любых значениях $x$. Соответственно, функции линейно независимы"
      ],
      "metadata": {
        "id": "bUj70XtA6o0U"
      }
    },
    {
      "cell_type": "markdown",
      "source": [
        "__3.__ Найти координаты вектора $x = (2, 3, 5)\\in \\mathbb{R}^{3}$ в базисе $b_{1}=(0, 0, 10)$, $b_{2}=(2, 0, 0)$, $b_{3}=(0, 1, 0)$."
      ],
      "metadata": {
        "id": "yxeMYokACaLs"
      }
    },
    {
      "cell_type": "markdown",
      "source": [
        "$x = (2, 3, 5) = (2, 0, 0) + (0, 3, 0)+ (0, 0, 5) = \\frac{1}{2} \\cdot (0, 0, 10) + 1 \\cdot (2, 0, 0) + 3 \\cdot (0, 1, 0) = \\frac{1}{2}b_1 + b_2 + 3b_3$"
      ],
      "metadata": {
        "id": "_b7UDlUYDZ9R"
      }
    },
    {
      "cell_type": "markdown",
      "source": [
        "то есть координатами вектора $x$ в этом базисе являются $\\frac{1}{2}$, $1$, $3$."
      ],
      "metadata": {
        "id": "9yjlPkZjEJuF"
      }
    },
    {
      "cell_type": "markdown",
      "source": [
        "__4.__ Найти координаты вектора $3x^{2}-2x+2\\in\\mathbb{R}^{3}[x]$:\n",
        "\n",
        "   а) в базисе $1$, $x$, $x^{2}$;\n",
        "\n",
        "   б) в базисе $x^{2}$, $x-1$, $1$."
      ],
      "metadata": {
        "id": "EmgMzGBjEQw1"
      }
    },
    {
      "cell_type": "markdown",
      "source": [
        "$3x^{2}-2x+2 = 2 \\cdot 1 - 2 \\cdot x + 3 \\cdot x^2$\n",
        "\n",
        "$a) (2, -2, 3)$\n",
        "\n",
        "$3x^{2}-2x+2 = 3 \\cdot x^2 - 2 \\cdot (x-1) + 4 \\cdot 1$\n",
        "\n",
        "$b) (3, -2, 4)$"
      ],
      "metadata": {
        "id": "qnVzrRFTEeT1"
      }
    },
    {
      "cell_type": "markdown",
      "source": [
        "__5.__ Установить, является ли линейным подпространством:\n",
        "\n",
        "а) совокупность всех векторов трехмерного пространства, у которых по крайней мере одна из первых двух координат равна нулю;\n",
        "    \n",
        "б) все векторы, являющиеся линейными комбинациями данных векторов $\\{u_{1}, u_{2}, ..., u_{n}\\}$."
      ],
      "metadata": {
        "id": "S9xAr3hEJICX"
      }
    },
    {
      "cell_type": "markdown",
      "source": [
        "Подмножество $L$ линейного пространства $V$ является его подпространством тогда и только тогда, когда для любых элементов $u, v\\in L$ и любого $\\alpha \\in \\mathbb{R}$ выполняются условия:\n",
        "\n",
        "### $$1)\\ u+v\\in L;$$\n",
        "\n",
        "### $$2)\\ \\alpha\\cdot u \\in L.$$"
      ],
      "metadata": {
        "id": "mGJqXS6cZP9H"
      }
    },
    {
      "cell_type": "markdown",
      "source": [
        "$a)$ Нет, например вектора $(1, 0, 1)$ и $(0, 1, 1)$ в сумме дадут вектор без нулевых координат, а это противоречит условию 1\n",
        "\n",
        "$b)$ Да\n",
        "\n",
        "$x = \\lambda_1 \\cdot u_1 + \\lambda_2 \\cdot u_2 + \\cdots + \\lambda_n \\cdot u_n$\n",
        "\n",
        "$y = \\mu_1 \\cdot u_1 + \\mu_2 \\cdot u_2 + \\cdots + \\mu_n \\cdot u_n$\n",
        "\n",
        "Проверка первого условия\n",
        "\n",
        "$x + y = u_1 \\cdot (\\lambda_1 + \\mu_1) + u_2 \\cdot (\\lambda_2 + \\mu_2) + c\\dots + u_n \\cdot (\\lambda_n + \\mu_n)$\n",
        "\n",
        "Проверка второго условия\n",
        "\n",
        "$\\alpha \\cdot x = \\alpha \\cdot \\lambda_1 \\cdot u_1 + \\alpha \\cdot \\lambda_2 \\cdot u_2 + \\cdots + \\alpha \\cdot \\lambda_n \\cdot u_n = \\alpha \\cdot (\\lambda_1 \\cdot u_1 + \\lambda_2 \\cdot u_2 + \\cdots + \\lambda_n \\cdot u_n)$"
      ],
      "metadata": {
        "id": "vDcNyFoUYuJI"
      }
    },
    {
      "cell_type": "markdown",
      "source": [
        "__1.__ Найти скалярное произведение векторов $x, y \\in \\mathbb{R}$:<br>\n",
        "а) $x=(0,-3, 6),~y=(-4, 7, 9);$<br>\n",
        "б) $x=(7, -4, 0, 1),~y=(-3, 1, 11, 2).$"
      ],
      "metadata": {
        "id": "JsfaEVZEJhAu"
      }
    },
    {
      "cell_type": "markdown",
      "source": [
        "$a)$ $<x, y> = 0 \\cdot (-4) + (-3) \\cdot 7 + 6 \\cdot 9 = 0 - 21 + 54 = 33$\n",
        "\n",
        "$b)$ $<x, y> = 7 \\cdot (-3) + (-4) \\cdot 1 + 0 \\cdot 11 + 1 \\cdot 2 = -21 - 4 + 0 + 2 = -23$"
      ],
      "metadata": {
        "id": "pGxH1tpqJur-"
      }
    },
    {
      "cell_type": "markdown",
      "source": [
        "__2.__ Найти нормы векторов $(4, 2, 4)$ и $(12, 3, 4)$ и угол между ними."
      ],
      "metadata": {
        "id": "BeKgJMnXKzga"
      }
    },
    {
      "cell_type": "markdown",
      "source": [
        "Манхэттенская норма\n",
        "\n",
        "$||x_1|| = |4| + |2| + |4| = 10$\n",
        "\n",
        "$||x_2|| = |12|+ |3| + |4| = 19$\n",
        "\n",
        "Евклидова норма\n",
        "\n",
        "$||x_1|| = \\sqrt{4^2 + 2^2 + 4^2} = \\sqrt{36} = 6$\n",
        "\n",
        "$||x_2|| = \\sqrt{12^2 + 3^2 + 4^2} = \\sqrt{169} = 13$\n",
        "\n",
        "Угол между ними\n",
        "\n",
        "$$cos\\alpha = \\frac{<x_1, x_2>}{||x_1|| \\cdot ||x_2||}$$\n",
        "\n",
        "$$cos\\alpha = \\frac{4 \\cdot 12 + 2 \\cdot 3 + 4 \\cdot 4}{6 \\cdot 13} = \\frac{70}{78} \\approx 0,897$$\n",
        "\n",
        "$$\\alpha = arccos(0,897) \\approx 26,23$$"
      ],
      "metadata": {
        "id": "FbeBXy7DK37B"
      }
    },
    {
      "cell_type": "markdown",
      "source": [
        "__3.__ Будет ли линейное пространство евклидовым, если за скалярное произведение принять:<br>\n",
        "а) произведение длин векторов;<br>\n",
        "б) утроенное обычное скалярное произведение векторов?"
      ],
      "metadata": {
        "id": "BfZnB4IfOcE3"
      }
    },
    {
      "cell_type": "markdown",
      "source": [
        "Линейное пространство над полем вещественных чисел называется _евклидовым пространством_ , если на нем введено правило, согласно которому каждой упорядоченной паре векторов $x$ и $y$ поставлено в соответствие вещественное число, называемое _скалярным произведением_ и обозначаемое символом $(x, y)$.\n",
        "\n",
        "При этом указанное правило должно подчиняться четырем аксиомам:<br>\n",
        "1) $(x,y)=(y,x);$<br>\n",
        "2) $(\\lambda x, y)=\\lambda(x, y);$<br>\n",
        "3) $(x_{1}+x_{2},y)=(x_{1},y)+(x_{2},y);$<br>\n",
        "4) $(x, x)\\geq0$, причем $(x,x)=0\\Leftrightarrow x=0.$"
      ],
      "metadata": {
        "id": "4K05hn7XREBh"
      }
    },
    {
      "cell_type": "markdown",
      "source": [
        "$a)$ Нет, так как не выполняется 3 аксиома. Пусть даны три вектора $a, b, c$\n",
        "\n",
        "$<a+b,c>=<a,c>+<b,c>$\n",
        "\n",
        "$\\sqrt{(x_{a}+x_{b})^{2}+(y_{a}+y_{b})^{2}+(z_{a}+z_{b})^2}\\cdot\\sqrt{x^2_{c}+y^2_{c}+z^2_{c}}\\neq\\sqrt{x^2_{a}+y^2_{a}+z^2_{a}}\\cdot\\sqrt{x^2_{c}+y^2_{c}+z^2_{c}}+\\sqrt{x^2_{b}+y^2_{b}+z^2_{b}}\\cdot\\sqrt{x^2_{c}+y^2_{c}+z^2_{c}}$ \n",
        "\n",
        "$b)$ Да, так как выполняются все 4 аксиомы"
      ],
      "metadata": {
        "id": "JuHZasWhO_2J"
      }
    },
    {
      "cell_type": "markdown",
      "source": [
        "__4.__ Какие из нижеперечисленных векторов образуют ортонормированный базис в линейном пространстве $\\mathbb{R}^{3}$:<br>\n",
        "а) $(1,0,0),(0,0,1);$ <br>\n",
        "б) $(1/\\sqrt{2},-1/\\sqrt{2},0),(1/\\sqrt{2},1/\\sqrt{2},0), (0,0,1);$<br>\n",
        "в) $(1/2, -1/2, 0), (0, 1/2, 1/2), (0,0,1);$<br>\n",
        "г) $(1,0,0),(0,1,0),(0,0,1)?$ "
      ],
      "metadata": {
        "id": "tly8LY34Rux9"
      }
    },
    {
      "cell_type": "markdown",
      "source": [
        "$a)$ Двух векторов не достаточно для образования базиса в пространстве $\\mathbb{R}^{3}$\n",
        "\n",
        "$b)$ Проверим\n",
        "\n",
        "$(e_{i}, e_{j})=0$ $\\forall$ $i\\neq j$ и $(e_{i},e_{i})=1$ $\\forall$ $i\\in[1, n].$\n",
        "\n"
      ],
      "metadata": {
        "id": "wa-P67GHTItR"
      }
    },
    {
      "cell_type": "code",
      "source": [
        "a = np.array([1/np.sqrt(2), -1/np.sqrt(2), 0])\n",
        "b = np.array([1/np.sqrt(2), 1/np.sqrt(2), 0])\n",
        "c = np.array([0, 0, 1])"
      ],
      "metadata": {
        "id": "CTzGR5ijU2_u"
      },
      "execution_count": 4,
      "outputs": []
    },
    {
      "cell_type": "code",
      "source": [
        "ab = np.dot(a, b)\n",
        "ac = np.dot(a, c)\n",
        "bc = np.dot(b, c)\n",
        "ab, ac, bc"
      ],
      "metadata": {
        "colab": {
          "base_uri": "https://localhost:8080/"
        },
        "id": "Fz_WBZ3qVjcY",
        "outputId": "f3b7295b-be37-4610-a125-41f84c7c7e59"
      },
      "execution_count": 5,
      "outputs": [
        {
          "output_type": "execute_result",
          "data": {
            "text/plain": [
              "(0.0, 0.0, 0.0)"
            ]
          },
          "metadata": {},
          "execution_count": 5
        }
      ]
    },
    {
      "cell_type": "markdown",
      "source": [
        "Верно"
      ],
      "metadata": {
        "id": "k6op4ePPV2ga"
      }
    },
    {
      "cell_type": "code",
      "source": [
        "aa = np.dot(a, a)\n",
        "bb = np.dot(b, b)\n",
        "cc = np.dot(c, c)\n",
        "aa, bb, cc"
      ],
      "metadata": {
        "colab": {
          "base_uri": "https://localhost:8080/"
        },
        "id": "mj_bgVcvV3bC",
        "outputId": "36a6289d-f65b-4c23-c32b-9cdce73f4ca9"
      },
      "execution_count": 6,
      "outputs": [
        {
          "output_type": "execute_result",
          "data": {
            "text/plain": [
              "(0.9999999999999998, 0.9999999999999998, 1)"
            ]
          },
          "metadata": {},
          "execution_count": 6
        }
      ]
    },
    {
      "cell_type": "markdown",
      "source": [
        "Верно, векторы образуют ортонормированный базис"
      ],
      "metadata": {
        "id": "ISZ5fML4V_wJ"
      }
    },
    {
      "cell_type": "markdown",
      "source": [
        "$c)$ Аналогично"
      ],
      "metadata": {
        "id": "6eW84PVLWLIw"
      }
    },
    {
      "cell_type": "code",
      "source": [
        "a = np.array([1/2, -1/2, 0])\n",
        "b = np.array([0, 1/2, 1/2])\n",
        "c = np.array([0, 0, 1])"
      ],
      "metadata": {
        "id": "18o_MKQ-WXdt"
      },
      "execution_count": 7,
      "outputs": []
    },
    {
      "cell_type": "code",
      "source": [
        "ab = np.dot(a, b)\n",
        "ac = np.dot(a, c)\n",
        "bc = np.dot(b, c)\n",
        "ab, ac, bc"
      ],
      "metadata": {
        "colab": {
          "base_uri": "https://localhost:8080/"
        },
        "id": "RzXCSEA_Wuci",
        "outputId": "026147f1-e30a-4333-c59a-05cf3d22fafd"
      },
      "execution_count": 8,
      "outputs": [
        {
          "output_type": "execute_result",
          "data": {
            "text/plain": [
              "(-0.25, 0.0, 0.5)"
            ]
          },
          "metadata": {},
          "execution_count": 8
        }
      ]
    },
    {
      "cell_type": "markdown",
      "source": [
        "Условие не выполнено, вектора не образуют ортонормированный базис"
      ],
      "metadata": {
        "id": "iCIFMHalW1_U"
      }
    },
    {
      "cell_type": "markdown",
      "source": [
        "$d)$ Аналогично"
      ],
      "metadata": {
        "id": "9bNnJAU8W7En"
      }
    },
    {
      "cell_type": "code",
      "source": [
        "a = np.array([1, 0, 0])\n",
        "b = np.array([0, 1, 0])\n",
        "c = np.array([0, 0, 1])"
      ],
      "metadata": {
        "id": "6sjXlhlqXA_n"
      },
      "execution_count": 9,
      "outputs": []
    },
    {
      "cell_type": "code",
      "source": [
        "ab = np.dot(a, b)\n",
        "ac = np.dot(a, c)\n",
        "bc = np.dot(b, c)\n",
        "ab, ac, bc"
      ],
      "metadata": {
        "colab": {
          "base_uri": "https://localhost:8080/"
        },
        "id": "_c7yKl1SXGUt",
        "outputId": "2c9e77fb-d953-4420-a0b3-29dfbd8fbf4f"
      },
      "execution_count": 10,
      "outputs": [
        {
          "output_type": "execute_result",
          "data": {
            "text/plain": [
              "(0, 0, 0)"
            ]
          },
          "metadata": {},
          "execution_count": 10
        }
      ]
    },
    {
      "cell_type": "markdown",
      "source": [
        "Выполнено"
      ],
      "metadata": {
        "id": "vjGy8Is2XHXT"
      }
    },
    {
      "cell_type": "code",
      "source": [
        "aa = np.dot(a, a)\n",
        "bb = np.dot(b, b)\n",
        "cc = np.dot(c, c)\n",
        "aa, bb, cc"
      ],
      "metadata": {
        "colab": {
          "base_uri": "https://localhost:8080/"
        },
        "id": "xmVx66rPXItS",
        "outputId": "ade55fc8-20a5-4c27-a8f5-d44db8ab29fc"
      },
      "execution_count": 11,
      "outputs": [
        {
          "output_type": "execute_result",
          "data": {
            "text/plain": [
              "(1, 1, 1)"
            ]
          },
          "metadata": {},
          "execution_count": 11
        }
      ]
    },
    {
      "cell_type": "markdown",
      "source": [
        "Выполнено, вектора образуют ортонормированный базис"
      ],
      "metadata": {
        "id": "Dah0D3KKXNVX"
      }
    }
  ]
}