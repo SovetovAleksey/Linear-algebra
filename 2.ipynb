{
  "nbformat": 4,
  "nbformat_minor": 0,
  "metadata": {
    "colab": {
      "name": "2.ipynb",
      "provenance": [],
      "collapsed_sections": [],
      "authorship_tag": "ABX9TyMlL8ASBzzBBW6keehUByJp",
      "include_colab_link": true
    },
    "kernelspec": {
      "name": "python3",
      "display_name": "Python 3"
    },
    "language_info": {
      "name": "python"
    }
  },
  "cells": [
    {
      "cell_type": "markdown",
      "metadata": {
        "id": "view-in-github",
        "colab_type": "text"
      },
      "source": [
        "<a href=\"https://colab.research.google.com/github/SovetovAleksey/Linear-algebra/blob/2_quest/2.ipynb\" target=\"_parent\"><img src=\"https://colab.research.google.com/assets/colab-badge.svg\" alt=\"Open In Colab\"/></a>"
      ]
    },
    {
      "cell_type": "markdown",
      "source": [
        "__1.__ Установить, какие произведения матриц $AB$ и $BA$ определены, и найти размерности полученных матриц:\n",
        "\n",
        "   а) $A$ — матрица $4\\times 2$, $B$ — матрица $4\\times 2$;\n",
        "    \n",
        "   б) $A$ — матрица $2\\times 5$, $B$ — матрица $5\\times 3$;\n",
        "    \n",
        "   в) $A$ — матрица $8\\times 3$, $B$ — матрица $3\\times 8$;\n",
        "    \n",
        "   г) $A$ — квадратная матрица $4\\times 4$, $B$ — квадратная матрица $4\\times 4$."
      ],
      "metadata": {
        "id": "PFutNetCHodv"
      }
    },
    {
      "cell_type": "markdown",
      "source": [
        "$a)$ Перемножить нельзя так как число солбцов матрицы $A$ не равно числу строк матрицы $B$ и наоборот\n",
        "\n",
        "$b)$ $AB = 2 \\times 3$\n",
        "\n",
        "$BA$ перемножить нельзя\n",
        "\n",
        "$C)$ $AB = 8 \\times 8$  \n",
        "\n",
        "$BA = 3 \\times 3$\n",
        "\n",
        "$d)$ $AB = 4 \\times 4$\n",
        "\n",
        "$BA = 4 \\times 4$"
      ],
      "metadata": {
        "id": "a1cOcnMWHuKw"
      }
    },
    {
      "cell_type": "markdown",
      "source": [
        "__2.__ Найти сумму и произведение матриц $A=\\begin{pmatrix}\n",
        "1 & -2\\\\ \n",
        "3 & 0\n",
        "\\end{pmatrix}$ и $B=\\begin{pmatrix}\n",
        "4 & -1\\\\ \n",
        "0 & 5\n",
        "\\end{pmatrix}.$"
      ],
      "metadata": {
        "id": "TNkcM3izJ9Ll"
      }
    },
    {
      "cell_type": "markdown",
      "source": [
        "$A + B = \\begin{pmatrix}\n",
        "1 & -2\\\\ \n",
        "3 & 0\n",
        "\\end{pmatrix} +\n",
        "\\begin{pmatrix}\n",
        "4 & -1\\\\ \n",
        "0 & 5\n",
        "\\end{pmatrix} = \n",
        "\\begin{pmatrix}\n",
        "1 + 4 & -2 - 1\\\\ \n",
        "3 + 0 & 0 + 5\n",
        "\\end{pmatrix} = \n",
        "\\begin{pmatrix}\n",
        "5 & -3\\\\ \n",
        "3 & 5\n",
        "\\end{pmatrix} = B + A$"
      ],
      "metadata": {
        "id": "g8eMtVMiKEv6"
      }
    },
    {
      "cell_type": "markdown",
      "source": [
        "$AB = \\begin{pmatrix}\n",
        "1 & -2\\\\ \n",
        "3 & 0\n",
        "\\end{pmatrix} \\cdot\n",
        "\\begin{pmatrix}\n",
        "4 & -1\\\\ \n",
        "0 & 5\n",
        "\\end{pmatrix} = \n",
        "\\begin{pmatrix}\n",
        "1 \\cdot 4 + (-2) \\cdot 0 & 1 \\cdot (-1) + (-2) \\cdot 5\\\\ \n",
        "3 \\cdot 4 + 0 \\cdot 0 & 3 \\cdot (-1) + 0 \\cdot 5\n",
        "\\end{pmatrix} = \n",
        "\\begin{pmatrix}\n",
        "4 & -11\\\\ \n",
        "12 & -3\n",
        "\\end{pmatrix}$"
      ],
      "metadata": {
        "id": "ke4JzO4DLRcR"
      }
    },
    {
      "cell_type": "markdown",
      "source": [
        "$BA = \\begin{pmatrix}\n",
        "4 & -1\\\\ \n",
        "0 & 5\n",
        "\\end{pmatrix} \\cdot\n",
        "\\begin{pmatrix}\n",
        "1 & -2\\\\ \n",
        "3 & 0\n",
        "\\end{pmatrix} = \n",
        "\\begin{pmatrix}\n",
        "4 \\cdot 1 + (-1) \\cdot 3 & 4 \\cdot (-2) + (-1) \\cdot 0\\\\ \n",
        "0 \\cdot 1 + 5 \\cdot 3 & 0 \\cdot (-2) + 5 \\cdot 0\n",
        "\\end{pmatrix} = \n",
        "\\begin{pmatrix}\n",
        "1 & -8\\\\ \n",
        "15 & 0\n",
        "\\end{pmatrix}$"
      ],
      "metadata": {
        "id": "Ik7ZvuFLMdrN"
      }
    },
    {
      "cell_type": "markdown",
      "source": [
        "__3.__ Из закономерностей сложения и умножения матриц на число можно сделать вывод, что матрицы одного размера образуют линейное пространство. Вычислить линейную комбинацию $3A-2B+4C$ для матриц $A=\\begin{pmatrix}\n",
        "1 & 7\\\\ \n",
        "3 & -6\n",
        "\\end{pmatrix}$, $B=\\begin{pmatrix}\n",
        "0 & 5\\\\ \n",
        "2 & -1\n",
        "\\end{pmatrix}$, $C=\\begin{pmatrix}\n",
        "2 & -4\\\\ \n",
        "1 & 1\n",
        "\\end{pmatrix}.$"
      ],
      "metadata": {
        "id": "UrEqYqxpNIbK"
      }
    },
    {
      "cell_type": "markdown",
      "source": [
        "$3A - 2B + 4C = 3 \\cdot \\begin{pmatrix}\n",
        "1 & 7\\\\ \n",
        "3 & -6\n",
        "\\end{pmatrix} - 2 \\cdot \n",
        "\\begin{pmatrix}\n",
        "0 & 5\\\\ \n",
        "2 & -1\n",
        "\\end{pmatrix} + 4 \\cdot \n",
        "\\begin{pmatrix}\n",
        "2 & -4\\\\ \n",
        "1 & 1\n",
        "\\end{pmatrix} =\n",
        "\\begin{pmatrix}\n",
        "3 & 21\\\\ \n",
        "9 & -18\n",
        "\\end{pmatrix} - \n",
        "\\begin{pmatrix}\n",
        "0 & 10\\\\ \n",
        "4 & -2\n",
        "\\end{pmatrix} + \n",
        "\\begin{pmatrix}\n",
        "8 & -16\\\\ \n",
        "4 & 4\n",
        "\\end{pmatrix} = \n",
        "\\begin{pmatrix}\n",
        "3 - 0 + 8 & 21 - 10 - 16\\\\ \n",
        "9 - 4 + 4 & -18 + 2 + 4\n",
        "\\end{pmatrix} =\n",
        "\\begin{pmatrix}\n",
        "11 & -5\\\\ \n",
        "9 & -12\n",
        "\\end{pmatrix}$"
      ],
      "metadata": {
        "id": "BHQmQkbqNOWx"
      }
    },
    {
      "cell_type": "markdown",
      "source": [
        "__4.__ Дана матрица $A=\\begin{pmatrix}\n",
        "4 & 1\\\\ \n",
        "5 & -2\\\\ \n",
        "2 & 3\n",
        "\\end{pmatrix}$.\n",
        "Вычислить $AA^{T}$ и $A^{T}A$."
      ],
      "metadata": {
        "id": "i2kW4rsaOjsL"
      }
    },
    {
      "cell_type": "markdown",
      "source": [
        "$AA^{T} = \\begin{pmatrix}\n",
        "4 & 1\\\\ \n",
        "5 & -2\\\\ \n",
        "2 & 3\n",
        "\\end{pmatrix} \\cdot \n",
        "\\begin{pmatrix}\n",
        "4 & 5 & 2\\\\ \n",
        "1 & -2 & 3\\\\ \n",
        "\\end{pmatrix} = \n",
        "\\begin{pmatrix}\n",
        "4 \\cdot 4 + 1 \\cdot 1 & 4 \\cdot 5 + 1 \\cdot (-2) & 4 \\cdot 2 + 1 \\cdot 3\\\\ \n",
        "5 \\cdot 4 + (-2) \\cdot 1 & 5 \\cdot 5 + (-2) \\cdot (-2) & 5 \\cdot 2 + (-2) \\cdot 3\\\\ \n",
        "2 \\cdot 4 + 3 \\cdot 1 & 2 \\cdot 5 + 3 \\cdot (-2) & 2 \\cdot 2 + 3 \\cdot 3\n",
        "\\end{pmatrix} = \n",
        "\\begin{pmatrix}\n",
        "17 & 18 & 11\\\\ \n",
        "18 & 29 & 4\\\\ \n",
        "11 & 4 & 13\n",
        "\\end{pmatrix}$"
      ],
      "metadata": {
        "id": "jqf3I7XzOoCO"
      }
    },
    {
      "cell_type": "markdown",
      "source": [
        "$A^{T}A = \\begin{pmatrix}\n",
        "4 & 5 & 2\\\\ \n",
        "1 & -2 & 3\\\\ \n",
        "\\end{pmatrix} \\cdot\n",
        "\\begin{pmatrix}\n",
        "4 & 1\\\\ \n",
        "5 & -2\\\\ \n",
        "2 & 3\n",
        "\\end{pmatrix} = \n",
        "\\begin{pmatrix}\n",
        "45 & 0\\\\ \n",
        "0 & 14\\\\ \n",
        "\\end{pmatrix}$"
      ],
      "metadata": {
        "id": "vuRxaRysRuJ2"
      }
    },
    {
      "cell_type": "markdown",
      "source": [
        "__1.__ Вычислить определитель:\n",
        "\n",
        "   a)\n",
        "\n",
        "$$\\begin{vmatrix}\n",
        "sinx & -cosx\\\\ \n",
        "cosx & sinx\n",
        "\\end{vmatrix};$$\n",
        "\n",
        "   б)\n",
        "    \n",
        "$$\\begin{vmatrix}\n",
        "4 & 2 & 3\\\\ \n",
        "0 & 5 & 1\\\\ \n",
        "0 & 0 & 9\n",
        "\\end{vmatrix};$$\n",
        "    \n",
        "   в)\n",
        "\n",
        "$$\\begin{vmatrix}\n",
        "1 & 2 & 3\\\\ \n",
        "4 & 5 & 6\\\\ \n",
        "7 & 8 & 9\n",
        "\\end{vmatrix}.$$"
      ],
      "metadata": {
        "id": "TqegTx9mShDb"
      }
    },
    {
      "cell_type": "markdown",
      "source": [
        "$a)$ $|A| = sinx \\cdot sinx - cosx \\cdot (-cosx) = sin^{2}x + cos^{2}x = 1$\n",
        "\n",
        "$b)$ $|B| = 4 \\cdot 5 \\cdot 9 = 180$\n",
        "\n",
        "$c)$ $|C| = 1 \\cdot \n",
        "\\begin{vmatrix}\n",
        "5 & 6\\\\ \n",
        "8 & 9\\\\ \n",
        "\\end{vmatrix} - 2 \\cdot \n",
        "\\begin{vmatrix}\n",
        "4 & 6\\\\ \n",
        "7 & 9\\\\ \n",
        "\\end{vmatrix} + 3 \\cdot \n",
        "\\begin{vmatrix}\n",
        "4 & 5\\\\ \n",
        "7 & 8\\\\ \n",
        "\\end{vmatrix} = 1 \\cdot (5 \\cdot 6 - 8 \\cdot 9) - 2 \\cdot (4 \\cdot 9 - 7 \\cdot 6) + 3 \\cdot (4 \\cdot 8 - 7 \\cdot 5) = -42 + 12 - 9 = -39$ "
      ],
      "metadata": {
        "id": "_Y79nl34S_sM"
      }
    },
    {
      "cell_type": "markdown",
      "source": [
        "__2.__ Определитель матрицы $A$ равен $4$. Найти:\n",
        "\n",
        "   а) $det(A^{2})$;\n",
        "    \n",
        "   б) $det(A^{T})$;\n",
        "    \n",
        "   в) $det(2A)$."
      ],
      "metadata": {
        "id": "b2bPBtwDbyFq"
      }
    },
    {
      "cell_type": "markdown",
      "source": [
        "$a)$ $det(A^2) = det(A) \\cdot det(A) = 4 \\cdot 4 = 16$\n",
        "\n",
        "$b)$ $det(A^{T}) = det(A) = 4$\n",
        "\n",
        "$c)$ $det(2A) = det(A) \\cdot 2 = 4 \\cdot 2 = 8$"
      ],
      "metadata": {
        "id": "mI-zazmib3X3"
      }
    },
    {
      "cell_type": "markdown",
      "source": [
        "__3.__  Доказать, что матрица\n",
        "\n",
        "$$\\begin{pmatrix}\n",
        "-2 & 7 & -3\\\\ \n",
        "4 & -14 & 6\\\\ \n",
        "-3 & 7 & 13\n",
        "\\end{pmatrix}$$\n",
        "   \n",
        "вырожденная."
      ],
      "metadata": {
        "id": "Yz_F-JmOdeg3"
      }
    },
    {
      "cell_type": "markdown",
      "source": [
        "$\\begin{vmatrix}\n",
        "-2 & 7 & -3\\\\ \n",
        "4 & -14 & 6\\\\ \n",
        "-3 & 7 & 13\n",
        "\\end{vmatrix} = -2 \\cdot \n",
        "\\begin{vmatrix}\n",
        "-14 & 6\\\\ \n",
        "7 & 13\\\\ \n",
        "\\end{vmatrix} - 7 \\cdot \n",
        "\\begin{vmatrix}\n",
        "4 & 6\\\\ \n",
        "-3 & 13\\\\ \n",
        "\\end{vmatrix} - 3 \\cdot \n",
        "\\begin{vmatrix}\n",
        "4 & -14\\\\ \n",
        "-3 & 7\\\\ \n",
        "\\end{vmatrix} = -2 \\cdot (-14 \\cdot 13 - 7 \\cdot 6) - 7 \\cdot (4 \\cdot 13 - (-3) \\cdot 6) - 3 \\cdot (4 \\cdot 7 - (-3) \\cdot (-14)) = 448 - 490 + 42 = 0$"
      ],
      "metadata": {
        "id": "QWJxBaNEdinB"
      }
    },
    {
      "cell_type": "markdown",
      "source": [
        "Определитель равен 0, значит матрица вырожденная"
      ],
      "metadata": {
        "id": "Oa3VkgrqfB8b"
      }
    },
    {
      "cell_type": "markdown",
      "source": [
        "__4.__ Найти ранг матрицы:\n",
        "\n",
        "   а) $\\begin{pmatrix}\n",
        "1 & 2 & 3\\\\ \n",
        "1 & 1 & 1\\\\ \n",
        "2 & 3 & 4\n",
        "\\end{pmatrix};$\n",
        "\n",
        "   б) $\\begin{pmatrix}\n",
        "0 & 0 & 2 & 1\\\\ \n",
        "0 & 0 & 2 & 2\\\\ \n",
        "0 & 0 & 4 & 3\\\\ \n",
        "2 & 3 & 5 & 6\n",
        "\\end{pmatrix}.$"
      ],
      "metadata": {
        "id": "Y-dmCI82fIpw"
      }
    },
    {
      "cell_type": "markdown",
      "source": [
        "$a)$ $\\begin{pmatrix}\n",
        "1 & 2 & 3\\\\ \n",
        "1 & 1 & 1\\\\ \n",
        "2 & 3 & 4\n",
        "\\end{pmatrix}$"
      ],
      "metadata": {
        "id": "mVsONkBdfMJk"
      }
    },
    {
      "cell_type": "markdown",
      "source": [
        "3 строка является суммой первых двух, так что ее можно выбросить"
      ],
      "metadata": {
        "id": "8I8zy6idgAPt"
      }
    },
    {
      "cell_type": "markdown",
      "source": [
        "$\\begin{pmatrix}\n",
        "1 & 2 & 3\\\\ \n",
        "1 & 1 & 1\\\\ \n",
        "\\end{pmatrix}$"
      ],
      "metadata": {
        "id": "ULfIn_QhgKKw"
      }
    },
    {
      "cell_type": "markdown",
      "source": [
        "Вычтем из 2 строки первую"
      ],
      "metadata": {
        "id": "beawFk0RgXCS"
      }
    },
    {
      "cell_type": "markdown",
      "source": [
        "$\\begin{pmatrix}\n",
        "1 & 2 & 3\\\\ \n",
        "0 & -1 & -2\\\\ \n",
        "\\end{pmatrix}$"
      ],
      "metadata": {
        "id": "Yeo8xUDIgZt5"
      }
    },
    {
      "cell_type": "markdown",
      "source": [
        "Ранг матрицы равен 2"
      ],
      "metadata": {
        "id": "fqlLSeQAgenG"
      }
    },
    {
      "cell_type": "markdown",
      "source": [
        "$b)$ $\\begin{pmatrix}\n",
        "0 & 0 & 2 & 1\\\\ \n",
        "0 & 0 & 2 & 2\\\\ \n",
        "0 & 0 & 4 & 3\\\\ \n",
        "2 & 3 & 5 & 6\n",
        "\\end{pmatrix}$"
      ],
      "metadata": {
        "id": "XoY67THXghY0"
      }
    },
    {
      "cell_type": "markdown",
      "source": [
        "Поменяем местами 1 и 4 строки"
      ],
      "metadata": {
        "id": "qu9J4WIigmqX"
      }
    },
    {
      "cell_type": "markdown",
      "source": [
        "$\\begin{pmatrix}\n",
        "2 & 3 & 5 & 6\\\\ \n",
        "0 & 0 & 2 & 2\\\\ \n",
        "0 & 0 & 4 & 3\\\\ \n",
        "0 & 0 & 2 & 1\n",
        "\\end{pmatrix}$"
      ],
      "metadata": {
        "id": "_foXYlKLguxL"
      }
    },
    {
      "cell_type": "markdown",
      "source": [
        "Строка 3 является суммой 2 и 4 строки, так что ее можно выбросить"
      ],
      "metadata": {
        "id": "szadCcqwg0tm"
      }
    },
    {
      "cell_type": "markdown",
      "source": [
        "$\\begin{pmatrix}\n",
        "2 & 3 & 5 & 6\\\\ \n",
        "0 & 0 & 2 & 2\\\\ \n",
        "0 & 0 & 2 & 1\n",
        "\\end{pmatrix}$"
      ],
      "metadata": {
        "id": "vJRNUXczhWe7"
      }
    },
    {
      "cell_type": "markdown",
      "source": [
        "Прибавим к 2 столбцу 4 столбец"
      ],
      "metadata": {
        "id": "ZBJLKWaGhbv1"
      }
    },
    {
      "cell_type": "markdown",
      "source": [
        "$\\begin{pmatrix}\n",
        "2 & 9 & 5 & 6\\\\ \n",
        "0 & 2 & 2 & 2\\\\ \n",
        "0 & 1 & 2 & 1\n",
        "\\end{pmatrix}$"
      ],
      "metadata": {
        "id": "-KAUDjH3iMub"
      }
    },
    {
      "cell_type": "markdown",
      "source": [
        "Вычтем из 3 строки строку 2, разделенную на 2"
      ],
      "metadata": {
        "id": "XvrSZ1QkiT9c"
      }
    },
    {
      "cell_type": "markdown",
      "source": [
        "$\\begin{pmatrix}\n",
        "2 & 9 & 5 & 6\\\\ \n",
        "0 & 2 & 2 & 2\\\\ \n",
        "0 & 0 & 1 & 0\n",
        "\\end{pmatrix}$"
      ],
      "metadata": {
        "id": "mExAqkjLiYxQ"
      }
    },
    {
      "cell_type": "markdown",
      "source": [
        "Ранг матрицы равен 3"
      ],
      "metadata": {
        "id": "hbFjuLPeifcU"
      }
    }
  ]
}