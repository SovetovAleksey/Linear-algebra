{
  "nbformat": 4,
  "nbformat_minor": 0,
  "metadata": {
    "colab": {
      "provenance": [],
      "authorship_tag": "ABX9TyMVKOskE/oS7OhwO7xtRMQ3",
      "include_colab_link": true
    },
    "kernelspec": {
      "name": "python3",
      "display_name": "Python 3"
    },
    "language_info": {
      "name": "python"
    }
  },
  "cells": [
    {
      "cell_type": "markdown",
      "metadata": {
        "id": "view-in-github",
        "colab_type": "text"
      },
      "source": [
        "<a href=\"https://colab.research.google.com/github/SovetovAleksey/Linear-algebra/blob/4_quest/4.ipynb\" target=\"_parent\"><img src=\"https://colab.research.google.com/assets/colab-badge.svg\" alt=\"Open In Colab\"/></a>"
      ]
    },
    {
      "cell_type": "code",
      "source": [
        "import numpy as np\n",
        "import numpy.linalg\n",
        "import scipy.linalg"
      ],
      "metadata": {
        "id": "0Wv4Q-w1eL2E"
      },
      "execution_count": 7,
      "outputs": []
    },
    {
      "cell_type": "markdown",
      "source": [
        "# Часть 1"
      ],
      "metadata": {
        "id": "wk-sTdqNXgqO"
      }
    },
    {
      "cell_type": "markdown",
      "source": [
        "__1.__ Решить систему уравнений методом Гаусса:\n",
        "\n",
        "$$\\begin{cases}\n",
        "x_{1}+x_{2}-x_{3}-2x_{4}=0, \\\\\n",
        "2x_{1}+x_{2}-x_{3}+x_{4}=-2, \\\\\n",
        "x_{1}+x_{2}-3x_{3}+x_{4}=4.\n",
        "\\end{cases}$$"
      ],
      "metadata": {
        "id": "OzkJXqkJNj9V"
      }
    },
    {
      "cell_type": "markdown",
      "source": [
        "Система имеее количество уравнений меньшее, чем количество неизвестных ⇒  система является недоопределённой"
      ],
      "metadata": {
        "id": "wkHvvYSxRDHI"
      }
    },
    {
      "cell_type": "markdown",
      "source": [
        "Запишем матрицу системы"
      ],
      "metadata": {
        "id": "_Yk_yEyUOTTu"
      }
    },
    {
      "cell_type": "markdown",
      "source": [
        "$$\\begin{pmatrix}\n",
        "\\left.\\begin{matrix}\n",
        "1 & 1 & -1 &-2\\\\ \n",
        "2 & 1 & -1 & 1 \\\\ \n",
        "1 & 1 & -3 & 1\n",
        "\\end{matrix}\\right|\n",
        "\\begin{matrix}\n",
        "0\\\\ \n",
        "-2\\\\\n",
        "4\n",
        "\\end{matrix}\n",
        "\\end{pmatrix}.$$"
      ],
      "metadata": {
        "id": "ybFxAUrENvOz"
      }
    },
    {
      "cell_type": "markdown",
      "source": [
        "Приведем к ступенчатому виду, вычтем из 3 строки первую"
      ],
      "metadata": {
        "id": "E759swaUOYhN"
      }
    },
    {
      "cell_type": "markdown",
      "source": [
        "$$\\begin{pmatrix}\n",
        "\\left.\\begin{matrix}\n",
        "1 & 1 & -1 &-2\\\\ \n",
        "2 & 1 & -1 & 1 \\\\ \n",
        "0 & 0 & -2 & 3\n",
        "\\end{matrix}\\right|\n",
        "\\begin{matrix}\n",
        "0\\\\ \n",
        "-2\\\\\n",
        "4\n",
        "\\end{matrix}\n",
        "\\end{pmatrix}.$$"
      ],
      "metadata": {
        "id": "14IVfL8TOayP"
      }
    },
    {
      "cell_type": "markdown",
      "source": [
        "Вычтем из 2 строки первую, умноженную на 2"
      ],
      "metadata": {
        "id": "EGhqBb0lOwi-"
      }
    },
    {
      "cell_type": "markdown",
      "source": [
        "$$\\begin{pmatrix}\n",
        "\\left.\\begin{matrix}\n",
        "1 & 1 & -1 &-2\\\\ \n",
        "0 & -1 & 1 & 5 \\\\ \n",
        "0 & 0 & -2 & 3\n",
        "\\end{matrix}\\right|\n",
        "\\begin{matrix}\n",
        "0\\\\ \n",
        "-2\\\\\n",
        "4\n",
        "\\end{matrix}\n",
        "\\end{pmatrix}.$$"
      ],
      "metadata": {
        "id": "_crhwq7_O1Xu"
      }
    },
    {
      "cell_type": "markdown",
      "source": [
        "Прибавим вторую строку к первой:"
      ],
      "metadata": {
        "id": "4HrpQeEmSPMS"
      }
    },
    {
      "cell_type": "markdown",
      "source": [
        "\\begin{pmatrix}\n",
        "\\left.\\begin{matrix}\n",
        "1 & 0 & 0 & 3\\\\ \n",
        "0 & -1 & 1 & 5 \\\\ \n",
        "0 & 0 & -2 & 3\n",
        "\\end{matrix}\\right|\n",
        "\\begin{matrix}\n",
        "-2\\\\ \n",
        "-2\\\\\n",
        "4\n",
        "\\end{matrix}\n",
        "\\end{pmatrix}"
      ],
      "metadata": {
        "id": "08N51KsGSP3i"
      }
    },
    {
      "cell_type": "markdown",
      "source": [
        "Ранг матрицы системы уравнений и ранг расширенной матрицы равны, $rankA = rankÃ = 3$, система имеет множество решений"
      ],
      "metadata": {
        "id": "LEtFkn3aRJ_Z"
      }
    },
    {
      "cell_type": "markdown",
      "source": [
        "Пусть $x_4 = c$, тогда"
      ],
      "metadata": {
        "id": "p9W9uv2MR9m3"
      }
    },
    {
      "cell_type": "markdown",
      "source": [
        "$-2x_{3}+3c=4\\\\x_3=-\\frac{4-3c}{2}\\\\x_{3}=-2+\\frac{3}{2}c\\\\-x_{2}+x_{3}+5c=-2\\\\x_2=2+5c-2+\\frac{3}{2}c\\\\x_2=\\frac{13}{2}c\\\\ x_{1}+3c=-2\\\\x_1=-2-3c$"
      ],
      "metadata": {
        "id": "WDxgCQOqSBqy"
      }
    },
    {
      "cell_type": "markdown",
      "source": [
        "Общее решение системы уравнений"
      ],
      "metadata": {
        "id": "Z0OHFQd2SbOs"
      }
    },
    {
      "cell_type": "markdown",
      "source": [
        "$x_1=-2-3c$\n",
        "\n",
        "$x_2=\\frac{13}{2}c$\n",
        "\n",
        "$x_3=-2+\\frac{3}{2}c$"
      ],
      "metadata": {
        "id": "Mc8ca9ZhSdc2"
      }
    },
    {
      "cell_type": "markdown",
      "source": [
        "__2.__ Проверить на совместность и выяснить, сколько решений будет иметь система линейных уравнений:\n",
        "\n",
        "   а) $\\begin{cases}\n",
        "3x_{1}-x_{2}+x_{3}=4, \\\\\n",
        "2x_{1}-5x_{2}-3x_{3}=-17, \\\\\n",
        "x_{1}+x_{2}-x_{3}=0;\n",
        "\\end{cases}$\n",
        "    \n",
        "   б) $\\begin{cases}\n",
        "2x_{1}-4x_{2}+6x_{3}=1, \\\\\n",
        "x_{1}-2x_{2}+3x_{3}=-2, \\\\\n",
        "3x_{1}-6x_{2}+9x_{3}=5;\n",
        "\\end{cases}$\n",
        "    \n",
        "   в) $\\begin{cases}\n",
        "x_{1}+2x_{2}+5x_{3}=4, \\\\\n",
        "3x_{1}+x_{2}-8x_{3}=-2. \n",
        "\\end{cases}$\n"
      ],
      "metadata": {
        "id": "vXDhKn_1Sumg"
      }
    },
    {
      "cell_type": "markdown",
      "source": [
        "$a) \\begin{cases}\n",
        "3x_{1}-x_{2}+x_{3}=4, \\\\\n",
        "2x_{1}-5x_{2}-3x_{3}=-17, \\\\\n",
        "x_{1}+x_{2}-x_{3}=0;\n",
        "\\end{cases}$"
      ],
      "metadata": {
        "id": "qCeQU17SSzHF"
      }
    },
    {
      "cell_type": "markdown",
      "source": [
        "Найдем ранги матрицы системы и ранг расширенной матрицы ⇒ $rankA = rankÃ = 3 ⇒$ поскольку ранги равны, система имеет одно единственное решение"
      ],
      "metadata": {
        "id": "GrcV09ofTD_O"
      }
    },
    {
      "cell_type": "markdown",
      "source": [
        "   б) $\\begin{cases}\n",
        "2x_{1}-4x_{2}+6x_{3}=1, \\\\\n",
        "x_{1}-2x_{2}+3x_{3}=-2, \\\\\n",
        "3x_{1}-6x_{2}+9x_{3}=5;\n",
        "\\end{cases}$"
      ],
      "metadata": {
        "id": "2QzN-4gvTjn9"
      }
    },
    {
      "cell_type": "markdown",
      "source": [
        "Сразу видно, что вектора линейно зависимы (1 строка равна второй, умноженной на 2, 3 строка равна второй, умноженной на 3), а вектор коэфициентов $\\bar{b}=\\begin{pmatrix}1\\\\-2\\\\5\\end{pmatrix}$ не принадлежит линейному подпространству образованному ими, следовательно, система решений не имеет"
      ],
      "metadata": {
        "id": "DKdxu9EaTmRZ"
      }
    },
    {
      "cell_type": "markdown",
      "source": [
        "   в) $\\begin{cases}\n",
        "x_{1}+2x_{2}+5x_{3}=4, \\\\\n",
        "3x_{1}+x_{2}-8x_{3}=-2. \n",
        "\\end{cases}$"
      ],
      "metadata": {
        "id": "1209UNJ2UOW9"
      }
    },
    {
      "cell_type": "markdown",
      "source": [
        "\\begin{pmatrix}\n",
        "\\left.\\begin{matrix}\n",
        "1 & 2 & 5\\\\ \n",
        "3 & 1 & -8\n",
        "\\end{matrix}\\right|\n",
        "\\begin{matrix}\n",
        "4\\\\ \n",
        "-2\n",
        "\\end{matrix}\n",
        "\\end{pmatrix}"
      ],
      "metadata": {
        "id": "doAhsPacUSGO"
      }
    },
    {
      "cell_type": "markdown",
      "source": [
        "Поскольку $rankA = rankÃ$, но количество уравнений меньше количества неизвестных ⇒ система совместна, но неопределена, и имеет множество решений."
      ],
      "metadata": {
        "id": "gXAMqspeUcxs"
      }
    },
    {
      "cell_type": "markdown",
      "source": [
        "__3.__ Проверить на совместность и выяснить, сколько решений будет иметь система линейных уравнений, заданная расширенной матрицей\n",
        "\n",
        "$$\\tilde{A}=\\begin{pmatrix}\n",
        "\\left.\\begin{matrix}\n",
        "1 & 3 & -2 & 4\\\\ \n",
        "0 & 5 & 0 & 1\\\\ \n",
        "0 & 0 & 3 & 0\\\\ \n",
        "0 & 0 & 0 & 2\n",
        "\\end{matrix}\\right|\n",
        "\\begin{matrix}\n",
        "3\\\\ \n",
        "2\\\\\n",
        "4\\\\\n",
        "1\n",
        "\\end{matrix}\n",
        "\\end{pmatrix}.$$"
      ],
      "metadata": {
        "id": "cL3coxetU_ni"
      }
    },
    {
      "cell_type": "markdown",
      "source": [
        "Найдем ранги матрицы системы и ранг расширенной матрицы ⇒ $rankA = rankÃ = 4 ⇒$ поскольку ранги равны, система имеет одно единственное решение"
      ],
      "metadata": {
        "id": "GVBpGkgDVE6J"
      }
    },
    {
      "cell_type": "markdown",
      "source": [
        "__4.__ Дана система линейных уравнений, заданная расширенной матрицей\n",
        "\n",
        "$$\\tilde{A}=\\begin{pmatrix}\n",
        "\\left.\\begin{matrix}\n",
        "1 & 2 & 3\\\\ \n",
        "4 & 5 & 6\\\\ \n",
        "7 & 8 & 9\n",
        "\\end{matrix}\\right|\n",
        "\\begin{matrix}\n",
        "a\\\\ \n",
        "b\\\\\n",
        "c\n",
        "\\end{matrix}\n",
        "\\end{pmatrix}.$$\n",
        "\n",
        "Найти соотношение между параметрами $a$, $b$ и $c$, при которых система является несовместной."
      ],
      "metadata": {
        "id": "OHm2-B6aVckq"
      }
    },
    {
      "cell_type": "markdown",
      "source": [
        "Вычтем из 2 строки первую, умноженную на 2, и из 3 строки первую, умноженную на 2"
      ],
      "metadata": {
        "id": "BIauGRuiVggC"
      }
    },
    {
      "cell_type": "markdown",
      "source": [
        "\\begin{pmatrix}\n",
        "\\left.\\begin{matrix}\n",
        "1 & 2 & 3\\\\ \n",
        "2 & 1 & 0\\\\ \n",
        "4 & 2 & 0\n",
        "\\end{matrix}\\right|\n",
        "\\begin{matrix}\n",
        "a\\\\ \n",
        "b-2a\\\\\n",
        "c-3a\n",
        "\\end{matrix}\n",
        "\\end{pmatrix}"
      ],
      "metadata": {
        "id": "MNSQbxt0WJsR"
      }
    },
    {
      "cell_type": "markdown",
      "source": [
        "Вычтем из 3 строки вторую, умноженную на 2"
      ],
      "metadata": {
        "id": "1lKbfJLXWNPx"
      }
    },
    {
      "cell_type": "markdown",
      "source": [
        "$$\\begin{pmatrix}\n",
        "\\left.\\begin{matrix}\n",
        "1 & 2 & 3\\\\ \n",
        "2 & 1 & 0\\\\ \n",
        "0 & 0 & 0\n",
        "\\end{matrix}\\right|\n",
        "\\begin{matrix}\n",
        "a\\\\ \n",
        "b-2a\\\\\n",
        "c+a-2b\n",
        "\\end{matrix}\n",
        "\\end{pmatrix}$$"
      ],
      "metadata": {
        "id": "chzOcejgWdFx"
      }
    },
    {
      "cell_type": "markdown",
      "source": [
        "Поменяем метсами 1 и 3 столбец"
      ],
      "metadata": {
        "id": "9ovPF8hKWm_z"
      }
    },
    {
      "cell_type": "markdown",
      "source": [
        "$$\\begin{pmatrix}\n",
        "\\left.\\begin{matrix}\n",
        "3 & 2 & 1\\\\ \n",
        "0 & 1 & 2\\\\ \n",
        "0 & 0 & 0\n",
        "\\end{matrix}\\right|\n",
        "\\begin{matrix}\n",
        "a\\\\ \n",
        "b-2a\\\\\n",
        "c+a-2b\n",
        "\\end{matrix}\n",
        "\\end{pmatrix}$$"
      ],
      "metadata": {
        "id": "7IozM6RzWtph"
      }
    },
    {
      "cell_type": "markdown",
      "source": [
        "$rankA = 2$, для выполнения условия несовместимости необходимо, что бы $rankÃ > 2$, а это возможно при $c+a-2b\\neq0$"
      ],
      "metadata": {
        "id": "JDxQ9UMSW6xt"
      }
    },
    {
      "cell_type": "markdown",
      "source": [
        "# Часть 2"
      ],
      "metadata": {
        "id": "j_CrWdA6XdlC"
      }
    },
    {
      "cell_type": "markdown",
      "source": [
        "__1.__ Решить систему уравнений методом Крамера:\n",
        "\n",
        "   а) $\\begin{cases}\n",
        "x_{1}-2x_{2}=1 \\\\\n",
        "3x_{1}-4x_{2}=7\n",
        "\\end{cases}$\n",
        "    \n",
        "   б) $\\begin{cases}\n",
        "2x_{1}-x_{2}+5x_{3}=10 \\\\\n",
        "x_{1}+x_{2}-3x_{3}=-2 \\\\\n",
        "2x_{1}+4x_{2}+x_{3}=1\n",
        "\\end{cases}$"
      ],
      "metadata": {
        "id": "tnigUl2zXnqH"
      }
    },
    {
      "cell_type": "markdown",
      "source": [
        "   а) $\\begin{cases}\n",
        "x_{1}-2x_{2}=1 \\\\\n",
        "3x_{1}-4x_{2}=7\n",
        "\\end{cases}$"
      ],
      "metadata": {
        "id": "osERyXDjXtAK"
      }
    },
    {
      "cell_type": "markdown",
      "source": [
        "Найдем определитель матрицы коэффициентов"
      ],
      "metadata": {
        "id": "hL561fAUXu3L"
      }
    },
    {
      "cell_type": "markdown",
      "source": [
        "$$detA=\\begin{vmatrix}1 & -2\\\\\n",
        "3 & -4\\end{vmatrix}=1\\cdot -4-(-2)\\cdot 3=2\\neq 0$$\n"
      ],
      "metadata": {
        "id": "Xs3MOw6WYFxW"
      }
    },
    {
      "cell_type": "markdown",
      "source": [
        "Система определена и имеет единственное решение\n"
      ],
      "metadata": {
        "id": "b_ojnwa0YbrF"
      }
    },
    {
      "cell_type": "markdown",
      "source": [
        "Найдем определители $detA_{1}$, $detA_{2}$"
      ],
      "metadata": {
        "id": "lvxX_JKjYrXT"
      }
    },
    {
      "cell_type": "markdown",
      "source": [
        "$$detA_1=\\begin{vmatrix}1 & -2\\\\\n",
        "7 & -4\\end{vmatrix}=-4+14=10\\\\\n",
        "detA_2=\\begin{vmatrix}1 & 1\\\\\n",
        "3 & 7\\end{vmatrix}=7-3=4$$"
      ],
      "metadata": {
        "id": "MbcW3Hy4YXts"
      }
    },
    {
      "cell_type": "markdown",
      "source": [
        "Откуда"
      ],
      "metadata": {
        "id": "dwCKoObiYvGl"
      }
    },
    {
      "cell_type": "markdown",
      "source": [
        "$$x_1=\\frac{detA_1}{detA}=\\frac{10}{2}=5\\\\\n",
        "x_2=\\frac{detA_2}{detA}=\\frac{4}{2}=2$$"
      ],
      "metadata": {
        "id": "Pu7K5wqoYwFs"
      }
    },
    {
      "cell_type": "markdown",
      "source": [
        "   б) $\\begin{cases}\n",
        "2x_{1}-x_{2}+5x_{3}=10 \\\\\n",
        "x_{1}+x_{2}-3x_{3}=-2 \\\\\n",
        "2x_{1}+4x_{2}+x_{3}=1\n",
        "\\end{cases}$"
      ],
      "metadata": {
        "id": "IXk9OpvPY-id"
      }
    },
    {
      "cell_type": "markdown",
      "source": [
        "Найдем определитель матрицы коэффициентов"
      ],
      "metadata": {
        "id": "rFwkIKpWY-8Q"
      }
    },
    {
      "cell_type": "markdown",
      "source": [
        "$$detA=\\begin{vmatrix}2 & -1 & 5\\\\\n",
        "1 & 1 & -3\\\\\n",
        "2 & 4 & 1\\end{vmatrix} = 2 \\cdot \\begin{vmatrix}1 & -3\\\\\n",
        "4 & 1\\end{vmatrix} + 1 \\cdot \\begin{vmatrix}1 & -3\\\\\n",
        "2 & 1\\end{vmatrix} + 5 \\cdot \\begin{vmatrix}1 & 1\\\\\n",
        "2 & 4\\end{vmatrix} = 2 \\cdot 13 + 1 \\cdot 7 + 5 \\cdot 2 = 43 \\neq 0$$"
      ],
      "metadata": {
        "id": "gPuDIBdKZCDm"
      }
    },
    {
      "cell_type": "markdown",
      "source": [
        "Система определена и имеет единственное решение"
      ],
      "metadata": {
        "id": "lLJ3oaKtaHP1"
      }
    },
    {
      "cell_type": "markdown",
      "source": [
        "Найдем определители $detA_{1}$, $detA_{2}$, $detA_{3}$"
      ],
      "metadata": {
        "id": "EswCIOTLaKMB"
      }
    },
    {
      "cell_type": "markdown",
      "source": [
        "$$detA_{1} = \\begin{vmatrix}10 & -1 & 5\\\\\n",
        "-2 & 1 & -3\\\\\n",
        "1 & 4 & 1\\end{vmatrix} = 86$$"
      ],
      "metadata": {
        "id": "-B3q4_pqaOLY"
      }
    },
    {
      "cell_type": "markdown",
      "source": [
        "$$detA_{2} = \\begin{vmatrix}2 & 10 & 5\\\\\n",
        "1 & -2 & -3\\\\\n",
        "2 & 1 & 1\\end{vmatrix} = -43$$"
      ],
      "metadata": {
        "id": "urzDV7g9awEA"
      }
    },
    {
      "cell_type": "markdown",
      "source": [
        "$$detA_3=\\begin{vmatrix}2 & -1 & 10\\\\\n",
        "1 & 1 & -2\\\\\n",
        "2 & 4 & 1\\end{vmatrix} = 43$$"
      ],
      "metadata": {
        "id": "LhHLkxeCbO-4"
      }
    },
    {
      "cell_type": "markdown",
      "source": [
        "Найдем решение по формулам Крамера:\n",
        "\n",
        "$$x_{1} = \\frac{detA_{1}}{detA} = \\frac{86}{43}=2$$\n",
        "\n",
        "$$x_{2} = \\frac{detA_{2}}{detA} = \\frac{-43}{43}=-1$$\n",
        "\n",
        "$$x_{3} = \\frac{detA_{3}}{detA} = \\frac{43}{43}=1$$"
      ],
      "metadata": {
        "id": "biiMNrjRbdTI"
      }
    },
    {
      "cell_type": "markdown",
      "source": [
        "__2.__ Найти $L$-матрицу $LU$-разложения для матрицы коэффициентов:\n",
        "\n",
        "   а)$$\\begin{pmatrix}\n",
        "1 & 2 & 4 \\\\ \n",
        "2 & 9 & 12 \\\\ \n",
        "3 & 26 & 30\n",
        "\\end{pmatrix}$$\n",
        "    \n",
        "   б)$$\\begin{pmatrix}\n",
        "1 & 1 & 2 & 4\\\\ \n",
        "2 & 5 & 8 & 9\\\\ \n",
        "3 & 18 & 29 & 18\\\\\n",
        "4 & 22 & 53 & 33\n",
        "\\end{pmatrix}$$"
      ],
      "metadata": {
        "id": "1Xy-wZ_abtKt"
      }
    },
    {
      "cell_type": "markdown",
      "source": [
        "   а)$$\\begin{pmatrix}\n",
        "1 & 2 & 4 \\\\ \n",
        "2 & 9 & 12 \\\\ \n",
        "3 & 26 & 30\n",
        "\\end{pmatrix}$$"
      ],
      "metadata": {
        "id": "-w9FjNX-b0X-"
      }
    },
    {
      "cell_type": "markdown",
      "source": [
        "$$U = \\begin{pmatrix}\n",
        "1 & 2 & 4 \\\\ \n",
        "2 & 9 & 12 \\\\ \n",
        "3 & 26 & 30\n",
        "\\end{pmatrix}$$\n",
        "\n",
        "$$L = \\begin{pmatrix}\n",
        "1 & 0 & 0 \\\\ \n",
        "0 & 1 & 0 \\\\ \n",
        "0 & 0 & 1\n",
        "\\end{pmatrix}$$"
      ],
      "metadata": {
        "id": "Jnmezblzb2ZT"
      }
    },
    {
      "cell_type": "markdown",
      "source": [
        "Вычтем из второй и третьей строк матрицы $U$ первую строку, умноженную на 2 и 3 соответственно.\n",
        "В матрицу $L$ добавим эти множители в первый столбец на 2-ю и третью позиции."
      ],
      "metadata": {
        "id": "_J7TO76pdVqR"
      }
    },
    {
      "cell_type": "markdown",
      "source": [
        "$$U=\\begin{pmatrix}\n",
        "1 & 2 & 4 \\\\ \n",
        "0 & 5 & 4 \\\\ \n",
        "0 & 20 & 18\n",
        "\\end{pmatrix}$$\n",
        "\n",
        "$$L=\\begin{pmatrix}\n",
        "1 & 0 & 0 \\\\ \n",
        "2 & 1 & 0 \\\\ \n",
        "3 & 0 & 1\n",
        "\\end{pmatrix}$$"
      ],
      "metadata": {
        "id": "FzYt3dqzdfoi"
      }
    },
    {
      "cell_type": "markdown",
      "source": [
        "Вычтем из третьей строки матрицы $U$ вторую строку, умноженную 4.\n",
        "В матрицу $L$ добавим этот множитель во второй столбец на третью позицию."
      ],
      "metadata": {
        "id": "A4_B7uhFdogf"
      }
    },
    {
      "cell_type": "markdown",
      "source": [
        "$$U=\\begin{pmatrix}\n",
        "1 & 2 & 4 \\\\ \n",
        "0 & 5 & 4 \\\\ \n",
        "0 & 0 & 2\n",
        "\\end{pmatrix}$$\n",
        "\n",
        "$$L=\\begin{pmatrix}\n",
        "1 & 0 & 0 \\\\ \n",
        "2 & 1 & 0 \\\\ \n",
        "3 & 4 & 1\n",
        "\\end{pmatrix}$$"
      ],
      "metadata": {
        "id": "TSh_zhF0dsPy"
      }
    },
    {
      "cell_type": "code",
      "source": [
        "U=np.array([[1,2,4],[0,5,4],[0,0,2]])\n",
        "L=np.array([[1,0,0],[2,1,0],[3,4,1]])\n",
        "print(f'LU = {L@U}')"
      ],
      "metadata": {
        "colab": {
          "base_uri": "https://localhost:8080/"
        },
        "id": "-sZKdGpueV3t",
        "outputId": "dda92f59-70fa-4188-f90f-b1e5f49c3b13"
      },
      "execution_count": 2,
      "outputs": [
        {
          "output_type": "stream",
          "name": "stdout",
          "text": [
            "LU = [[ 1  2  4]\n",
            " [ 2  9 12]\n",
            " [ 3 26 30]]\n"
          ]
        }
      ]
    },
    {
      "cell_type": "markdown",
      "source": [
        "Получили исходную матрицу, все верно"
      ],
      "metadata": {
        "id": "8DejX9DXee7Z"
      }
    },
    {
      "cell_type": "markdown",
      "source": [
        "   б)$$\\begin{pmatrix}\n",
        "1 & 1 & 2 & 4\\\\ \n",
        "2 & 5 & 8 & 9\\\\ \n",
        "3 & 18 & 29 & 18\\\\\n",
        "4 & 22 & 53 & 33\n",
        "\\end{pmatrix}$$"
      ],
      "metadata": {
        "id": "42H7vPaIehyk"
      }
    },
    {
      "cell_type": "markdown",
      "source": [
        "$$U=\\begin{pmatrix}\n",
        "1 & 1 & 2 & 4\\\\ \n",
        "2 & 5 & 8 & 9\\\\ \n",
        "3 & 18 & 29 & 18\\\\\n",
        "4 & 22 & 53 & 33\n",
        "\\end{pmatrix}$$\n",
        "\n",
        "$$L=\\begin{pmatrix}\n",
        "1 & 0 & 0 & 0\\\\ \n",
        "0 & 1 & 0 & 0\\\\ \n",
        "0 & 0 & 1 & 0\\\\\n",
        "0 & 0 & 0 & 1\n",
        "\\end{pmatrix}$$"
      ],
      "metadata": {
        "id": "cQIPybqZewsu"
      }
    },
    {
      "cell_type": "markdown",
      "source": [
        "Из второй, третьей и четвёртой строк вычитаем первую, умноженную на 2, 3 и 4, соответственно"
      ],
      "metadata": {
        "id": "Gch74Uioe7FZ"
      }
    },
    {
      "cell_type": "markdown",
      "source": [
        "$$U=\\begin{pmatrix}\n",
        "1 & 1 & 2 & 4\\\\ \n",
        "0 & 3 & 4 & 1\\\\ \n",
        "0 & 15 & 23 & 6\\\\\n",
        "0 & 18 & 45 & 17\n",
        "\\end{pmatrix}$$\n",
        "\n",
        "$$L=\\begin{pmatrix}\n",
        "1 & 0 & 0 & 0\\\\ \n",
        "2 & 1 & 0 & 0\\\\ \n",
        "3 & 0 & 1 & 0\\\\\n",
        "4 & 0 & 0 & 1\n",
        "\\end{pmatrix}$$"
      ],
      "metadata": {
        "id": "zDkjRtMqe9_Z"
      }
    },
    {
      "cell_type": "markdown",
      "source": [
        "Из третьей и четвёртой строк вычитаем вторую, умноженную на 5 и 6, соответственно"
      ],
      "metadata": {
        "id": "VtyQqcZnfEi3"
      }
    },
    {
      "cell_type": "markdown",
      "source": [
        "$$U=\\begin{pmatrix}\n",
        "1 & 1 & 2 & 4\\\\ \n",
        "0 & 3 & 4 & 1\\\\ \n",
        "0 & 0 & 3 & 1\\\\\n",
        "0 & 0 & 21 & 11\n",
        "\\end{pmatrix}$$\n",
        "\n",
        "$$L=\\begin{pmatrix}\n",
        "1 & 0 & 0 & 0\\\\ \n",
        "2 & 1 & 0 & 0\\\\ \n",
        "3 & 5 & 1 & 0\\\\\n",
        "4 & 6 & 0 & 1\n",
        "\\end{pmatrix}$$"
      ],
      "metadata": {
        "id": "WEh37wNwfHHo"
      }
    },
    {
      "cell_type": "markdown",
      "source": [
        "Из четвёртой строки вычтем третью, умноженную на 7"
      ],
      "metadata": {
        "id": "V6BYorgZfNtT"
      }
    },
    {
      "cell_type": "markdown",
      "source": [
        "$$U=\\begin{pmatrix}\n",
        "1 & 1 & 2 & 4\\\\ \n",
        "0 & 3 & 4 & 1\\\\ \n",
        "0 & 0 & 3 & 1\\\\\n",
        "0 & 0 & 0 & 4\n",
        "\\end{pmatrix}$$\n",
        "\n",
        "$$L=\\begin{pmatrix}\n",
        "1 & 0 & 0 & 0\\\\ \n",
        "2 & 1 & 0 & 0\\\\ \n",
        "3 & 5 & 1 & 0\\\\\n",
        "4 & 6 & 7 & 1\n",
        "\\end{pmatrix}$$"
      ],
      "metadata": {
        "id": "qwrBoISPfPu5"
      }
    },
    {
      "cell_type": "markdown",
      "source": [
        "Проверим"
      ],
      "metadata": {
        "id": "V-y7EooufVNj"
      }
    },
    {
      "cell_type": "code",
      "source": [
        "L=np.array([[1,0,0,0],[2,1,0,0],[3,5,1,0],[4,6,7,1]])\n",
        "U=np.array([[1,1,2,4],[0,3,4,1],[0,0,3,1],[0,0,0,4]])\n",
        "print(f'LU = {L@U}')"
      ],
      "metadata": {
        "colab": {
          "base_uri": "https://localhost:8080/"
        },
        "id": "ga1Oo1dufZfE",
        "outputId": "46d2cc2f-90cc-4129-dbc6-6673a5972af5"
      },
      "execution_count": 3,
      "outputs": [
        {
          "output_type": "stream",
          "name": "stdout",
          "text": [
            "LU = [[ 1  1  2  4]\n",
            " [ 2  5  8  9]\n",
            " [ 3 18 29 18]\n",
            " [ 4 22 53 33]]\n"
          ]
        }
      ]
    },
    {
      "cell_type": "markdown",
      "source": [
        "Получили исходную матрицу, все верно"
      ],
      "metadata": {
        "id": "VAbAlSbgfdZl"
      }
    },
    {
      "cell_type": "markdown",
      "source": [
        "__3.__ Решить систему линейных уравнений методом $LU$-разложения\n",
        "\n",
        "$$\\begin{cases}\n",
        "2x_{1}+x_{2}+3x_{3}=1 \\\\\n",
        "11x_{1}+7x_{2}+5x_{3}=-6 \\\\\n",
        "9x_{1}+8x_{2}+4x_{3}=-5\n",
        "\\end{cases}$$"
      ],
      "metadata": {
        "id": "Z_rqOHxKff_u"
      }
    },
    {
      "cell_type": "code",
      "source": [
        "A=np.array([[2,1,3],[11,7,5],[9,8,4]])\n",
        "b=np.array([1,-6,-5])\n",
        "A"
      ],
      "metadata": {
        "colab": {
          "base_uri": "https://localhost:8080/"
        },
        "id": "Ojl3tw4dhArO",
        "outputId": "95ad8de0-1ffb-4911-bbd7-7e409cd85a60"
      },
      "execution_count": 4,
      "outputs": [
        {
          "output_type": "execute_result",
          "data": {
            "text/plain": [
              "array([[ 2,  1,  3],\n",
              "       [11,  7,  5],\n",
              "       [ 9,  8,  4]])"
            ]
          },
          "metadata": {},
          "execution_count": 4
        }
      ]
    },
    {
      "cell_type": "code",
      "source": [
        "b"
      ],
      "metadata": {
        "colab": {
          "base_uri": "https://localhost:8080/"
        },
        "id": "6MgH7S4phEb0",
        "outputId": "a34f3064-6085-4bbe-c908-864d59a7c8c3"
      },
      "execution_count": 5,
      "outputs": [
        {
          "output_type": "execute_result",
          "data": {
            "text/plain": [
              "array([ 1, -6, -5])"
            ]
          },
          "metadata": {},
          "execution_count": 5
        }
      ]
    },
    {
      "cell_type": "markdown",
      "source": [
        "Найдем матрицы $L$ и $U$"
      ],
      "metadata": {
        "id": "S-CJBcCDgIao"
      }
    },
    {
      "cell_type": "code",
      "source": [
        "p,L,U=scipy.linalg.lu(A)\n",
        "print(f'Матрица p: \\n{p}\\nМатрица L:\\n{L}\\nМатрица U:\\n{U}')"
      ],
      "metadata": {
        "colab": {
          "base_uri": "https://localhost:8080/"
        },
        "id": "qjex95cihJzR",
        "outputId": "75290d47-83d4-476f-de8a-cd59f91d473a"
      },
      "execution_count": 8,
      "outputs": [
        {
          "output_type": "stream",
          "name": "stdout",
          "text": [
            "Матрица p: \n",
            "[[0. 0. 1.]\n",
            " [1. 0. 0.]\n",
            " [0. 1. 0.]]\n",
            "Матрица L:\n",
            "[[ 1.          0.          0.        ]\n",
            " [ 0.81818182  1.          0.        ]\n",
            " [ 0.18181818 -0.12        1.        ]]\n",
            "Матрица U:\n",
            "[[11.          7.          5.        ]\n",
            " [ 0.          2.27272727 -0.09090909]\n",
            " [ 0.          0.          2.08      ]]\n"
          ]
        }
      ]
    },
    {
      "cell_type": "markdown",
      "source": [
        "Решим систему $Ly =b$"
      ],
      "metadata": {
        "id": "RKpvTcE3hYs1"
      }
    },
    {
      "cell_type": "code",
      "source": [
        "def y_search(L,b,p):\n",
        "    y_arr=np.array([0 for i in range(len(b))],dtype=float)\n",
        "    b_copy=(p.T@b).astype(np.float)\n",
        "    for i in range(len(b)):\n",
        "        for j in range(len(b)):\n",
        "            tot=(L[i][j]*y_arr[j])\n",
        "            b_copy[i]-=tot\n",
        "        y_arr[i]=b_copy[i]/L[i][i]\n",
        "    return y_arr.reshape(len(b),-1)\n",
        "\n",
        "y_arr=y_search(L,b,p)\n",
        "y_arr"
      ],
      "metadata": {
        "colab": {
          "base_uri": "https://localhost:8080/"
        },
        "id": "EB-1h-klii6Y",
        "outputId": "79781480-9878-4a82-ff4f-9fc4c440630b"
      },
      "execution_count": 9,
      "outputs": [
        {
          "output_type": "stream",
          "name": "stderr",
          "text": [
            "/usr/local/lib/python3.7/dist-packages/ipykernel_launcher.py:3: DeprecationWarning: `np.float` is a deprecated alias for the builtin `float`. To silence this warning, use `float` by itself. Doing this will not modify any behavior and is safe. If you specifically wanted the numpy scalar type, use `np.float64` here.\n",
            "Deprecated in NumPy 1.20; for more details and guidance: https://numpy.org/devdocs/release/1.20.0-notes.html#deprecations\n",
            "  This is separate from the ipykernel package so we can avoid doing imports until\n"
          ]
        },
        {
          "output_type": "execute_result",
          "data": {
            "text/plain": [
              "array([[-6.        ],\n",
              "       [-0.09090909],\n",
              "       [ 2.08      ]])"
            ]
          },
          "metadata": {},
          "execution_count": 9
        }
      ]
    },
    {
      "cell_type": "markdown",
      "source": [
        "Решим систему $Ux = b$"
      ],
      "metadata": {
        "id": "-Qx744iUjddO"
      }
    },
    {
      "cell_type": "code",
      "source": [
        "def x_search(U,y_arr):\n",
        "    x_arr=np.array([0 for i in range(len(y_arr))],dtype=float)\n",
        "    b_copy=y_arr.copy()\n",
        "    for i in range(len(y_arr)-1,-1,-1):\n",
        "        for j in range(len(y_arr)-1,-1,-1):\n",
        "            tot=(U[i][j]*x_arr[j])\n",
        "            b_copy[i]-=tot\n",
        "        x_arr[i]=b_copy[i]/U[i][i]\n",
        "    return x_arr.reshape(len(x_arr),-1)\n",
        "\n",
        "x_arr=x_search(U,y_arr)\n",
        "x_arr"
      ],
      "metadata": {
        "colab": {
          "base_uri": "https://localhost:8080/"
        },
        "id": "SfDwJCcqkCea",
        "outputId": "a6a5f55a-283a-4ff3-f83c-526d8822d6af"
      },
      "execution_count": 12,
      "outputs": [
        {
          "output_type": "execute_result",
          "data": {
            "text/plain": [
              "array([[-1.],\n",
              "       [ 0.],\n",
              "       [ 1.]])"
            ]
          },
          "metadata": {},
          "execution_count": 12
        }
      ]
    },
    {
      "cell_type": "markdown",
      "source": [
        "$x_1 = -1, x_2 = 0, x_3 = 1$"
      ],
      "metadata": {
        "id": "ozBIyLs_kG_O"
      }
    },
    {
      "cell_type": "markdown",
      "source": [
        "Проверим"
      ],
      "metadata": {
        "id": "dk3Gq58kkNtn"
      }
    },
    {
      "cell_type": "markdown",
      "source": [
        "\\begin{cases}\n",
        "2\\cdot -1+0+3\\cdot 1=1 \\\\\n",
        "11\\cdot -1+7\\cdot 0+5\\cdot 1=-6 \\\\\n",
        "9\\cdot -1+8\\cdot 0+4\\cdot 1=-5\n",
        "\\end{cases}"
      ],
      "metadata": {
        "id": "NFtbazWTkO3l"
      }
    },
    {
      "cell_type": "markdown",
      "source": [
        "Верно"
      ],
      "metadata": {
        "id": "1d6rfbnukXRb"
      }
    },
    {
      "cell_type": "markdown",
      "source": [
        "__4.__ Решить систему линейных уравнений методом Холецкого\n",
        "\n",
        "$$\\begin{cases}\n",
        "81x_{1}-45x_{2}+45x_{3}=531 \\\\\n",
        "-45x_{1}+50x_{2}-15x_{3}=-460 \\\\\n",
        "45x_{1}-15x_{2}+38x_{3}=193\n",
        "\\end{cases}$$"
      ],
      "metadata": {
        "id": "JCliVyd1kYRU"
      }
    },
    {
      "cell_type": "markdown",
      "source": [
        "Произведем разложение на $LL^{T}$:\n",
        "\n",
        "$$l_{11}=\\sqrt{a_{11}}=\\sqrt{81} = 9,$$\n",
        "$$l_{21}=\\frac{a_{21}}{l_{11}}=\\frac{-45}{9} = -5,$$\n",
        "$$l_{31}=\\frac{a_{31}}{l_{11}}=\\frac{45}{9} = 5,$$\n",
        "\n",
        "$$l_{22}=\\sqrt{a_{22}-l_{21}^{2}}=\\sqrt{50 - 25}=5,$$\n",
        "$$l_{32}=\\frac{1}{l_{22}}\\left ( a_{32}-l_{21}l_{31} \\right)=\\frac{1}{5}\\left ( -15 - (-5)\\cdot 5 \\right )=2,$$\n",
        "\n",
        "$$l_{33}=\\sqrt{a_{33}-l_{31}^{2}-l_{32}^{2}}=\\sqrt{38-25-4}=3.$$"
      ],
      "metadata": {
        "id": "ctywi9mvkfxi"
      }
    },
    {
      "cell_type": "markdown",
      "source": [
        "Получили матрицу"
      ],
      "metadata": {
        "id": "OENdFauqmBXb"
      }
    },
    {
      "cell_type": "markdown",
      "source": [
        "$$L = \\begin{pmatrix}\n",
        "9 & 0 & 0 \\\\ \n",
        "-5 & 5 & 0 \\\\ \n",
        "5 & 2 & 3\n",
        "\\end{pmatrix}, \n",
        "\\; \\; \n",
        "L^{T} = \\begin{pmatrix}\n",
        "9 & -5 & 5 \\\\ \n",
        "0 & 5 & 2 \\\\ \n",
        "0 & 0 & 3\n",
        "\\end{pmatrix}.$$"
      ],
      "metadata": {
        "id": "k95phankmDrM"
      }
    },
    {
      "cell_type": "markdown",
      "source": [
        "Решим систему $Ly = b$"
      ],
      "metadata": {
        "id": "ReYblfnCmsdk"
      }
    },
    {
      "cell_type": "markdown",
      "source": [
        "$$\\begin{cases}\n",
        "9y_{1}=531, \\\\\n",
        "-5y_{1}+5y_{2}=-460, \\\\\n",
        "5y_{1}+2y_{2}+3y_{3}=193.\n",
        "\\end{cases}$$\n",
        "\n",
        "$$y_{1} = 59,$$\n",
        "\n",
        "$$y_{2}=-33,$$\n",
        "\n",
        "$$y_{3}=\\frac{193-295+66}{3}=-12.$$"
      ],
      "metadata": {
        "id": "1FJl9qQrmvZw"
      }
    },
    {
      "cell_type": "markdown",
      "source": [
        "И решим систему $L^{T}x=y:$\n",
        "\n",
        "$$\\begin{cases}\n",
        "9x_{1}-5x_{2}+5x_{3}=59, \\\\\n",
        "5x_{2}+2x_{3}=-33, \\\\\n",
        "3x_{3}=-12.\n",
        "\\end{cases}$$\n",
        "\n",
        "$$x_{3}=-4,$$\n",
        "\n",
        "$$x_{2}=-5,$$\n",
        "\n",
        "$$x_{1}=\\frac{59-25+20}{9}=6.$$"
      ],
      "metadata": {
        "id": "O_Df-RQEn3Dx"
      }
    },
    {
      "cell_type": "markdown",
      "source": [
        "Осуществим проверку, подставив полученные значения в исходную систему:\n",
        "\n",
        "$$\\begin{cases}\n",
        "81 \\cdot 6 -45 \\cdot(-5)+45 \\cdot (-4)=531 \\\\\n",
        "-45 \\cdot 6+50 \\cdot (-5)-15 \\cdot (-4)=-460 \\\\\n",
        "45 \\cdot 6-15 \\cdot (-5)+38 \\cdot (-4)=193\n",
        "\\end{cases}$$"
      ],
      "metadata": {
        "id": "KX3duT0lo9Fu"
      }
    },
    {
      "cell_type": "markdown",
      "source": [
        "Верно!"
      ],
      "metadata": {
        "id": "UV7hzIy3ptF1"
      }
    }
  ]
}